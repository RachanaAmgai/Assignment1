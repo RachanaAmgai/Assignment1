{
 "cells": [
  {
   "cell_type": "markdown",
   "id": "992b6f93-c2d8-4093-a60e-cc463ce156b6",
   "metadata": {},
   "source": [
    "### Rachana Amgai\n",
    "### Assignment 1\n",
    "### 11/27/2024"
   ]
  },
  {
   "cell_type": "markdown",
   "id": "a2ce19d9-ad05-429d-8d09-61f5e4332665",
   "metadata": {},
   "source": [
    "### Qn 1"
   ]
  },
  {
   "cell_type": "code",
   "execution_count": null,
   "id": "4340f66a-a9a5-4f80-ad15-6a9a8ba70874",
   "metadata": {},
   "outputs": [],
   "source": [
    "Explore the JupyterLab interface and look at some of the shortcuts that are available. \n",
    "Don't worry about memorizing them for now (eventually, they will become second \n",
    "nature and save you a lot of time)—just get comfortable using Jupyter Notebooks."
   ]
  },
  {
   "cell_type": "markdown",
   "id": "3281e304-7565-464a-8572-1c5fa0463ca0",
   "metadata": {},
   "source": [
    "#### Editing Shortcuts:\n",
    "#### Ctrl + Z: Undo the last action.\n",
    "#### Ctrl + Shift + Z: Redo the last undone action.\n",
    "#### Saving Work:\n",
    "### Ctrl + S: Save the notebook."
   ]
  },
  {
   "cell_type": "markdown",
   "id": "78c88e08-7735-44fb-8919-dd8290d14548",
   "metadata": {},
   "source": [
    "### QN 2"
   ]
  },
  {
   "cell_type": "code",
   "execution_count": null,
   "id": "b5af743c-6490-43ba-ba29-9e23392ff84f",
   "metadata": {},
   "outputs": [],
   "source": [
    "Is all data normally distributed? Explain why or why not."
   ]
  },
  {
   "cell_type": "markdown",
   "id": "9e87b3a4-07c2-4831-807e-c8a67bb79b26",
   "metadata": {},
   "source": [
    "#### Not all data follows a normal distribution. \n",
    "#### The distribution of data is not always normal, as it is dependent upon the phenomena, sample size, and structural properties.\n",
    "#### Determining the distribution type is essential for choosing suitable analytical techniques.\n"
   ]
  },
  {
   "cell_type": "markdown",
   "id": "dde2a1f1-0160-4f27-bb30-544e67816aba",
   "metadata": {},
   "source": [
    "### Qn 3"
   ]
  },
  {
   "cell_type": "code",
   "execution_count": null,
   "id": "42934010-fe48-49b7-b251-c804c1e790fa",
   "metadata": {},
   "outputs": [],
   "source": [
    "When would it make more sense to use the median instead of the mean for the \n",
    "measure of center"
   ]
  },
  {
   "cell_type": "markdown",
   "id": "214de198-c4e6-4c03-8c03-75c2a60e1fed",
   "metadata": {},
   "source": [
    "#### The median is preferred when the data is skewed, contains outliers, or is ordinal, \n",
    "#### as it accurately represents the central tendency in such instances."
   ]
  },
  {
   "cell_type": "code",
   "execution_count": null,
   "id": "563b1402-5097-4be0-a8cf-b76f21d24a27",
   "metadata": {},
   "outputs": [],
   "source": []
  },
  {
   "cell_type": "markdown",
   "id": "bc91e250-b5a7-405a-b90d-bbd4328ec8a6",
   "metadata": {},
   "source": [
    "### QN 4"
   ]
  },
  {
   "cell_type": "code",
   "execution_count": null,
   "id": "9c95f614-5e0d-4026-b961-a2e5da06df72",
   "metadata": {},
   "outputs": [],
   "source": [
    "Run the code in the first cell of the exercises.ipynb notebook. It will give you \n",
    "a list of 100 values to work with for the rest of the exercises in this chapter. Be sure \n",
    "to treat these values as a sample of the population"
   ]
  },
  {
   "cell_type": "code",
   "execution_count": 1,
   "id": "f25c57b6-2b81-4adf-a53c-7f06cae4c096",
   "metadata": {},
   "outputs": [
    {
     "name": "stdout",
     "output_type": "stream",
     "text": [
      "Sample of Population:\n",
      "[91, 24, 13, 45, 41, 38, 27, 23, 96, 79, 21, 85, 64, 14, 13, 21, 37, 39, 74, 87, 13, 81, 35, 93, 99, 79, 63, 38, 67, 85, 45, 10, 30, 99, 64, 53, 45, 29, 37, 53, 23, 21, 58, 22, 55, 54, 87, 43, 15, 68, 78, 25, 58, 20, 80, 47, 90, 89, 56, 83, 34, 100, 18, 15, 94, 39, 47, 20, 39, 22, 58, 45, 68, 91, 56, 30, 57, 55, 36, 95, 44, 99, 97, 92, 19, 87, 91, 31, 78, 41, 30, 69, 58, 44, 91, 98, 81, 38, 97, 51]\n"
     ]
    }
   ],
   "source": [
    "# Importing the necessary library\n",
    "import random\n",
    "\n",
    "# Generating a list of 100 random values (treating as a sample of the population)\n",
    "random.seed(42)  # For reproducibility\n",
    "data = [random.randint(10, 100) for _ in range(100)]\n",
    "\n",
    "# Display the generated data\n",
    "print(\"Sample of Population:\")\n",
    "print(data)\n"
   ]
  },
  {
   "cell_type": "code",
   "execution_count": null,
   "id": "8aeaf11d-fed2-4bf6-87b3-957b28c4b6e1",
   "metadata": {},
   "outputs": [],
   "source": []
  },
  {
   "cell_type": "markdown",
   "id": "9a0d64ef-9227-4698-ae06-cc07b636aba1",
   "metadata": {},
   "source": [
    "### QN 5"
   ]
  },
  {
   "cell_type": "code",
   "execution_count": null,
   "id": "4f4ed8e9-1886-4462-9f0e-de10859a7888",
   "metadata": {},
   "outputs": [],
   "source": [
    "Using the data from exercise 4, calculate the following statistics without importing \n",
    "anything from the statistics module in the standard library (https://\n",
    "docs.python.org/3/library/statistics.html), and then confirm your \n",
    "results match up to those that are obtained when using the statistics module \n",
    "(where possible):\n",
    "a) Mean\n",
    "b) Median\n",
    "c) Mode (hint: check out the Counter class in the collections module \n",
    "of the standard library at https://docs.python.org/3/library/\n",
    "collections.html#collections.Counter)\n",
    "d) Sample variance\n",
    "e) Sample standard deviatio"
   ]
  },
  {
   "cell_type": "code",
   "execution_count": 3,
   "id": "c056a78d-42ed-457d-a373-6d3b69464772",
   "metadata": {},
   "outputs": [
    {
     "name": "stdout",
     "output_type": "stream",
     "text": [
      "Mean: 54.77\n",
      "Median: 53.0\n",
      "Mode: 91\n",
      "Sample Variance: 758.8859595959597\n",
      "Sample Standard Deviation: 27.547884847950844\n"
     ]
    }
   ],
   "source": [
    "\n",
    "# Assume `data` already contains the 100 random values from exercise 4.\n",
    "\n",
    "# a) Mean\n",
    "mean = sum(data) / len(data)\n",
    "print(f\"Mean: {mean}\")\n",
    "\n",
    "# b) Median\n",
    "sorted_data = sorted(data)\n",
    "n = len(sorted_data)\n",
    "if n % 2 == 0:\n",
    "    median = (sorted_data[n // 2 - 1] + sorted_data[n // 2]) / 2\n",
    "else:\n",
    "    median = sorted_data[n // 2]\n",
    "print(f\"Median: {median}\")\n",
    "\n",
    "# c) Mode using Counter from collections\n",
    "from collections import Counter\n",
    "mode = Counter(data).most_common(1)[0][0]\n",
    "print(f\"Mode: {mode}\")\n",
    "\n",
    "# d) Sample Variance\n",
    "mean = sum(data) / len(data)  # Reusing the previously calculated mean\n",
    "variance = sum((x - mean) ** 2 for x in data) / (len(data) - 1)\n",
    "print(f\"Sample Variance: {variance}\")\n",
    "\n",
    "# e) Sample Standard Deviation\n",
    "std_dev = variance ** 0.5\n",
    "print(f\"Sample Standard Deviation: {std_dev}\")\n"
   ]
  },
  {
   "cell_type": "code",
   "execution_count": null,
   "id": "88e50d2d-0f6c-48a3-ac80-b833684bb2e4",
   "metadata": {},
   "outputs": [],
   "source": []
  },
  {
   "cell_type": "markdown",
   "id": "3963061d-5b3a-4274-b74f-e0c31c66f617",
   "metadata": {},
   "source": [
    "### QN 6"
   ]
  },
  {
   "cell_type": "code",
   "execution_count": null,
   "id": "71506c4b-d6f1-44b8-bba8-bc7d583ef430",
   "metadata": {},
   "outputs": [],
   "source": [
    "Using the data from exercise 4, calculate the following statistics using the functions \n",
    "in the statistics module where appropriate:\n",
    "a) Range\n",
    "b) Coefficient of variation\n",
    "c) Interquartile range\n",
    "d) Quartile coefficient of dispersion"
   ]
  },
  {
   "cell_type": "code",
   "execution_count": 5,
   "id": "d9952faf-ba80-4d8b-8ef9-9566c49938cb",
   "metadata": {},
   "outputs": [
    {
     "name": "stdout",
     "output_type": "stream",
     "text": [
      "Range: 90\n",
      "Coefficient of Variation: 50.30%\n",
      "Interquartile Range (IQR): 50.5\n",
      "Quartile Coefficient of Dispersion: 0.45\n"
     ]
    }
   ],
   "source": [
    "import statistics\n",
    "\n",
    "# a) Range\n",
    "data_range = max(data) - min(data)\n",
    "print(f\"Range: {data_range}\")\n",
    "\n",
    "# b) Coefficient of Variation (CV)\n",
    "# CV = (Standard Deviation / Mean) * 100\n",
    "mean = statistics.mean(data)\n",
    "std_dev = statistics.stdev(data)\n",
    "coefficient_of_variation = (std_dev / mean) * 100\n",
    "print(f\"Coefficient of Variation: {coefficient_of_variation:.2f}%\")\n",
    "\n",
    "# c) Interquartile Range (IQR)\n",
    "# IQR = Q3 - Q1\n",
    "sorted_data = sorted(data)\n",
    "q1 = statistics.median(sorted_data[:len(sorted_data) // 2])\n",
    "q3 = statistics.median(sorted_data[(len(sorted_data) + 1) // 2:])\n",
    "iqr = q3 - q1\n",
    "print(f\"Interquartile Range (IQR): {iqr}\")\n",
    "\n",
    "# d) Quartile Coefficient of Dispersion (QCD)\n",
    "# QCD = (Q3 - Q1) / (Q3 + Q1)\n",
    "quartile_coefficient_of_dispersion = (q3 - q1) / (q3 + q1)\n",
    "print(f\"Quartile Coefficient of Dispersion: {quartile_coefficient_of_dispersion:.2f}\")\n"
   ]
  },
  {
   "cell_type": "code",
   "execution_count": null,
   "id": "49908ab8-2b8c-4d4b-8afd-f661b657830f",
   "metadata": {},
   "outputs": [],
   "source": []
  },
  {
   "cell_type": "markdown",
   "id": "9af1101b-4de0-4d65-a0bd-9ebc54f4bb19",
   "metadata": {},
   "source": [
    "### QN 7"
   ]
  },
  {
   "cell_type": "code",
   "execution_count": null,
   "id": "e83af30d-3d64-4fd4-b696-c121fade63be",
   "metadata": {},
   "outputs": [],
   "source": [
    "Scale the data created in exercise 4 using the following strategies:\n",
    "a) Min-max scaling (normalizing)\n",
    "b) Standardizing"
   ]
  },
  {
   "cell_type": "code",
   "execution_count": 13,
   "id": "bc513d76-5b3a-4f67-8274-4474b45d19ad",
   "metadata": {},
   "outputs": [
    {
     "name": "stdout",
     "output_type": "stream",
     "text": [
      "Normalized Data (Min-Max Scaling):\n",
      "[0.9, 0.15555555555555556, 0.03333333333333333, 0.3888888888888889, 0.34444444444444444, 0.3111111111111111, 0.18888888888888888, 0.14444444444444443, 0.9555555555555556, 0.7666666666666667, 0.12222222222222222, 0.8333333333333334, 0.6, 0.044444444444444446, 0.03333333333333333, 0.12222222222222222, 0.3, 0.32222222222222224, 0.7111111111111111, 0.8555555555555555, 0.03333333333333333, 0.7888888888888889, 0.2777777777777778, 0.9222222222222223, 0.9888888888888889, 0.7666666666666667, 0.5888888888888889, 0.3111111111111111, 0.6333333333333333, 0.8333333333333334, 0.3888888888888889, 0.0, 0.2222222222222222, 0.9888888888888889, 0.6, 0.4777777777777778, 0.3888888888888889, 0.2111111111111111, 0.3, 0.4777777777777778, 0.14444444444444443, 0.12222222222222222, 0.5333333333333333, 0.13333333333333333, 0.5, 0.4888888888888889, 0.8555555555555555, 0.36666666666666664, 0.05555555555555555, 0.6444444444444445, 0.7555555555555555, 0.16666666666666666, 0.5333333333333333, 0.1111111111111111, 0.7777777777777778, 0.4111111111111111, 0.8888888888888888, 0.8777777777777778, 0.5111111111111111, 0.8111111111111111, 0.26666666666666666, 1.0, 0.08888888888888889, 0.05555555555555555, 0.9333333333333333, 0.32222222222222224, 0.4111111111111111, 0.1111111111111111, 0.32222222222222224, 0.13333333333333333, 0.5333333333333333, 0.3888888888888889, 0.6444444444444445, 0.9, 0.5111111111111111, 0.2222222222222222, 0.5222222222222223, 0.5, 0.28888888888888886, 0.9444444444444444, 0.37777777777777777, 0.9888888888888889, 0.9666666666666667, 0.9111111111111111, 0.1, 0.8555555555555555, 0.9, 0.23333333333333334, 0.7555555555555555, 0.34444444444444444, 0.2222222222222222, 0.6555555555555556, 0.5333333333333333, 0.37777777777777777, 0.9, 0.9777777777777777, 0.7888888888888889, 0.3111111111111111, 0.9666666666666667, 0.45555555555555555]\n",
      "\n",
      "Standardized Data:\n",
      "[1.315164492663217, -1.1169641578594314, -1.5162688616765827, -0.3546551778448699, -0.49985688832383396, -0.6087581711830571, -1.0080628750002083, -1.1532645854791723, 1.4966666307619223, 0.8795593612263248, -1.2258654407186544, 1.097361926944771, 0.33505294693020954, -1.4799684340568415, -1.5162688616765827, -1.2258654407186544, -0.645058598802798, -0.572457743563316, 0.6980572231276198, 1.169962782184253, -1.5162688616765827, 0.9521602164658068, -0.7176594540422802, 1.3877653479026992, 1.6055679136211454, 0.8795593612263248, 0.2987525193104685, -0.6087581711830571, 0.4439542297894326, 1.097361926944771, -0.3546551778448699, -1.6251701445358055, -0.8991615921409852, 1.6055679136211454, 0.33505294693020954, -0.06425175688694172, -0.3546551778448699, -0.9354620197607263, -0.645058598802798, -0.06425175688694172, -1.1532645854791723, -1.2258654407186544, 0.11725038121176339, -1.1895650130989135, 0.00834909835254032, -0.0279513292672007, 1.169962782184253, -0.42725603308435195, -1.4436680064371006, 0.4802546574091736, 0.8432589336065838, -1.0806637302396904, 0.11725038121176339, -1.2621658683383954, 0.9158597888460659, -0.2820543226053879, 1.2788640650434762, 1.242563637423735, 0.04464952597228134, 1.0247610717052889, -0.7539598816620211, 1.6418683412408863, -1.3347667235778775, -1.4436680064371006, 1.4240657755224402, -0.572457743563316, -0.2820543226053879, -1.2621658683383954, -0.572457743563316, -1.1895650130989135, 0.11725038121176339, -0.3546551778448699, 0.4802546574091736, 1.315164492663217, 0.04464952597228134, -0.8991615921409852, 0.08094995359202237, 0.00834909835254032, -0.6813590264225391, 1.4603662031421811, -0.39095560546461094, 1.6055679136211454, 1.5329670583816633, 1.351464920282958, -1.2984662959581366, 1.169962782184253, 1.315164492663217, -0.8628611645212442, 0.8432589336065838, -0.49985688832383396, -0.8991615921409852, 0.5165550850289147, 0.11725038121176339, -0.39095560546461094, 1.315164492663217, 1.5692674860014042, 0.9521602164658068, -0.6087581711830571, 1.5329670583816633, -0.13685261212642377]\n"
     ]
    }
   ],
   "source": [
    "# Assume `data` contains the 100 values generated in Exercise 4\n",
    "\n",
    "# a) Min-max scaling (Normalizing)\n",
    "def min_max_scale(data):\n",
    "    min_val = min(data)\n",
    "    max_val = max(data)\n",
    "    return [(x - min_val) / (max_val - min_val) for x in data]\n",
    "\n",
    "normalized_data = min_max_scale(data)\n",
    "print(\"Normalized Data (Min-Max Scaling):\")\n",
    "print(normalized_data)\n",
    "\n",
    "# b) Standardizing\n",
    "def standardize(data):\n",
    "    mean = sum(data) / len(data)\n",
    "    std_dev = (sum((x - mean) ** 2 for x in data) / (len(data) - 1)) ** 0.5\n",
    "    return [(x - mean) / std_dev for x in data]\n",
    "\n",
    "standardized_data = standardize(data)\n",
    "print(\"\\nStandardized Data:\")\n",
    "print(standardized_data)\n"
   ]
  },
  {
   "cell_type": "code",
   "execution_count": null,
   "id": "e8770b58-6c83-4eda-ad1b-52ea4b6c78e5",
   "metadata": {},
   "outputs": [],
   "source": []
  },
  {
   "cell_type": "markdown",
   "id": "6d9816a4-e4e4-4889-9273-5b418f23f275",
   "metadata": {},
   "source": [
    "### Qn 8"
   ]
  },
  {
   "cell_type": "code",
   "execution_count": null,
   "id": "9ddcf4f6-033d-47d8-936f-6a98b487f472",
   "metadata": {},
   "outputs": [],
   "source": [
    "Using the scaled data from exercise 7, calculate the following:\n",
    "a) The covariance between the standardized and normalized data\n",
    "b) The Pearson correlation coefficient between the standardized and normalized \n",
    "data (this is actually 1, but due to rounding along the way, the result will be \n",
    "slightly less"
   ]
  },
  {
   "cell_type": "code",
   "execution_count": 15,
   "id": "40c6d6e3-a3ae-4045-a781-afc30ca09f7a",
   "metadata": {},
   "outputs": [
    {
     "name": "stdout",
     "output_type": "stream",
     "text": [
      "Covariance between standardized and normalized data: 0.306087609421676\n",
      "Pearson Correlation Coefficient between standardized and normalized data: 0.9999999999999998\n"
     ]
    }
   ],
   "source": [
    "# Assume `normalized_data` and `standardized_data` are already computed\n",
    "\n",
    "# a) Covariance\n",
    "def calculate_covariance(data1, data2):\n",
    "    mean1 = sum(data1) / len(data1)\n",
    "    mean2 = sum(data2) / len(data2)\n",
    "    covariance = sum((x - mean1) * (y - mean2) for x, y in zip(data1, data2)) / (len(data1) - 1)\n",
    "    return covariance\n",
    "\n",
    "covariance = calculate_covariance(normalized_data, standardized_data)\n",
    "print(f\"Covariance between standardized and normalized data: {covariance}\")\n",
    "\n",
    "# b) Pearson Correlation Coefficient\n",
    "def calculate_pearson_correlation(data1, data2):\n",
    "    std_dev1 = (sum((x - sum(data1) / len(data1)) ** 2 for x in data1) / (len(data1) - 1)) ** 0.5\n",
    "    std_dev2 = (sum((y - sum(data2) / len(data2)) ** 2 for y in data2) / (len(data2) - 1)) ** 0.5\n",
    "    covariance = calculate_covariance(data1, data2)\n",
    "    pearson_corr = covariance / (std_dev1 * std_dev2)\n",
    "    return pearson_corr\n",
    "\n",
    "pearson_correlation = calculate_pearson_correlation(normalized_data, standardized_data)\n",
    "print(f\"Pearson Correlation Coefficient between standardized and normalized data: {pearson_correlation}\")\n"
   ]
  },
  {
   "cell_type": "code",
   "execution_count": null,
   "id": "9b8326ab-2556-4faa-9541-f9da6c60e97f",
   "metadata": {},
   "outputs": [],
   "source": []
  }
 ],
 "metadata": {
  "kernelspec": {
   "display_name": "Python 3 (ipykernel)",
   "language": "python",
   "name": "python3"
  },
  "language_info": {
   "codemirror_mode": {
    "name": "ipython",
    "version": 3
   },
   "file_extension": ".py",
   "mimetype": "text/x-python",
   "name": "python",
   "nbconvert_exporter": "python",
   "pygments_lexer": "ipython3",
   "version": "3.12.4"
  }
 },
 "nbformat": 4,
 "nbformat_minor": 5
}
